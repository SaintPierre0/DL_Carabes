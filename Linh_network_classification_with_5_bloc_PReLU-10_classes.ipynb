{
 "cells": [
  {
   "cell_type": "code",
   "execution_count": 1,
   "id": "66f3ab4b",
   "metadata": {},
   "outputs": [
    {
     "data": {
      "text/plain": [
       "'cuda'"
      ]
     },
     "execution_count": 1,
     "metadata": {},
     "output_type": "execute_result"
    }
   ],
   "source": [
    "# import PyTorch and its related packages\n",
    "import torch as T\n",
    "import torch.nn as nn\n",
    "import torch.optim as optim\n",
    "import torch.nn.functional as F\n",
    "\n",
    "import torch\n",
    "\n",
    "import torchvision\n",
    "import torchvision.transforms as transforms\n",
    "\n",
    "from torchvision import transforms\n",
    "from torchvision.datasets import ImageFolder\n",
    "\n",
    "from tqdm.notebook import tqdm\n",
    "\n",
    "from sklearn.metrics import confusion_matrix\n",
    "\n",
    "\n",
    "# set default device based on CUDA's availability\n",
    "device = 'cuda' if T.cuda.is_available() else 'cpu'\n",
    "device"
   ]
  },
  {
   "cell_type": "code",
   "execution_count": 2,
   "id": "44a7c1c6",
   "metadata": {},
   "outputs": [],
   "source": [
    "transform = transforms.Compose(\n",
    "    [transforms.Resize((512,512)),\n",
    "     transforms.ToTensor(),\n",
    "     transforms.Normalize((0.485, 0.456, 0.406), (0.229, 0.224, 0.225))])\n",
    "\n",
    "batch_size = 64\n",
    "#image_size = (224, 224, 3)\n",
    "\n",
    "train_set = ImageFolder('C:/Users/heuma/Desktop/Master/S10/Aurea/Dataset_Kaggle_Test_Train_20-80/TRAIN/', transform=transform)\n",
    "test_set = ImageFolder('C:/Users/heuma/Desktop/Master/S10/Aurea/Dataset_Kaggle_Test_Train_20-80/TEST/', transform=transform)\n",
    "\n",
    "#train_set = train_ds\n",
    "train_loader = T.utils.data.DataLoader(train_set, batch_size=batch_size,shuffle=True, num_workers=4)\n",
    "\n",
    "#test_set = test_ds\n",
    "test_loader = T.utils.data.DataLoader(test_set, batch_size=batch_size,shuffle=False, num_workers=4)"
   ]
  },
  {
   "cell_type": "code",
   "execution_count": 3,
   "id": "e9c36132",
   "metadata": {},
   "outputs": [],
   "source": [
    "class NewNetwork(nn.Module):\n",
    "    def __init__(self, num_classes=33):\n",
    "        super(NewNetwork, self).__init__()\n",
    "        self.features = nn.Sequential(\n",
    "            nn.Conv2d(3, out_channels = 32, kernel_size=3, stride=2, padding=1), #224\n",
    "            nn.PReLU(),\n",
    "            nn.MaxPool2d(kernel_size=2, stride=2),\n",
    "            nn.Dropout(p=0.1),\n",
    "            nn.Conv2d(32, 64, kernel_size=3, stride=2, padding=1),\n",
    "            nn.PReLU(),\n",
    "            nn.MaxPool2d(kernel_size=2, stride=2),\n",
    "            nn.Dropout(p=0.2),\n",
    "            nn.Conv2d(64, 128, kernel_size=3, stride=2, padding=1),#112\n",
    "            nn.Conv2d(128, 128, kernel_size=3, stride=2, padding=1),\n",
    "            nn.PReLU(),\n",
    "            nn.MaxPool2d(kernel_size=2, stride=2),\n",
    "            nn.Dropout(p=0.3),\n",
    "            nn.Conv2d(128, 256, kernel_size=3, stride=2, padding=1),#56\n",
    "            nn.PReLU(),\n",
    "            nn.MaxPool2d(kernel_size=2, stride=2),\n",
    "            nn.Dropout(p=0.4)\n",
    "            #nn.Conv2d(256, 512, kernel_size=5, stride=2, padding=1), #28\n",
    "            #nn.ReLU(inplace=True),\n",
    "            #nn.MaxPool2d(kernel_size=2, stride=2),\n",
    "            #nn.Dropout(p=0.5)\n",
    "            \n",
    "           \n",
    "        )\n",
    "        self.classifier = nn.Sequential(\n",
    "            nn.Dropout(),\n",
    "            nn.Linear(4 * 8 * 8, 1000), #mettre 128 quand il y a 5 couches\n",
    "            nn.PReLU(),\n",
    "            nn.Dropout(p=0.5),\n",
    "            nn.Linear(1000, 1000),\n",
    "            nn.PReLU(),\n",
    "            nn.Linear(1000, num_classes),\n",
    "        )\n",
    "\n",
    "    def forward(self, x):\n",
    "        x = self.features(x)\n",
    "        x = x.view(x.shape[0], -1)\n",
    "        x = self.classifier(x)\n",
    "        return x"
   ]
  },
  {
   "cell_type": "code",
   "execution_count": 4,
   "id": "441d12a6",
   "metadata": {},
   "outputs": [
    {
     "data": {
      "text/plain": [
       "NewNetwork(\n",
       "  (features): Sequential(\n",
       "    (0): Conv2d(3, 32, kernel_size=(3, 3), stride=(2, 2), padding=(1, 1))\n",
       "    (1): PReLU(num_parameters=1)\n",
       "    (2): MaxPool2d(kernel_size=2, stride=2, padding=0, dilation=1, ceil_mode=False)\n",
       "    (3): Dropout(p=0.1, inplace=False)\n",
       "    (4): Conv2d(32, 64, kernel_size=(3, 3), stride=(2, 2), padding=(1, 1))\n",
       "    (5): PReLU(num_parameters=1)\n",
       "    (6): MaxPool2d(kernel_size=2, stride=2, padding=0, dilation=1, ceil_mode=False)\n",
       "    (7): Dropout(p=0.2, inplace=False)\n",
       "    (8): Conv2d(64, 128, kernel_size=(3, 3), stride=(2, 2), padding=(1, 1))\n",
       "    (9): Conv2d(128, 128, kernel_size=(3, 3), stride=(2, 2), padding=(1, 1))\n",
       "    (10): PReLU(num_parameters=1)\n",
       "    (11): MaxPool2d(kernel_size=2, stride=2, padding=0, dilation=1, ceil_mode=False)\n",
       "    (12): Dropout(p=0.3, inplace=False)\n",
       "    (13): Conv2d(128, 256, kernel_size=(3, 3), stride=(2, 2), padding=(1, 1))\n",
       "    (14): PReLU(num_parameters=1)\n",
       "    (15): MaxPool2d(kernel_size=2, stride=2, padding=0, dilation=1, ceil_mode=False)\n",
       "    (16): Dropout(p=0.4, inplace=False)\n",
       "  )\n",
       "  (classifier): Sequential(\n",
       "    (0): Dropout(p=0.5, inplace=False)\n",
       "    (1): Linear(in_features=256, out_features=1000, bias=True)\n",
       "    (2): PReLU(num_parameters=1)\n",
       "    (3): Dropout(p=0.5, inplace=False)\n",
       "    (4): Linear(in_features=1000, out_features=1000, bias=True)\n",
       "    (5): PReLU(num_parameters=1)\n",
       "    (6): Linear(in_features=1000, out_features=33, bias=True)\n",
       "  )\n",
       ")"
      ]
     },
     "execution_count": 4,
     "metadata": {},
     "output_type": "execute_result"
    }
   ],
   "source": [
    "net = NewNetwork()\n",
    "net.to(device)"
   ]
  },
  {
   "cell_type": "code",
   "execution_count": 5,
   "id": "f39606d9",
   "metadata": {},
   "outputs": [],
   "source": [
    "criterion = nn.CrossEntropyLoss()\n",
    "\n",
    "# also the optimizer\n",
    "optimizer = optim.SGD(net.parameters(), lr=0.001, momentum=0.9)\n",
    "\n",
    "#dynamic learning rate\n",
    "#scheduler = optim.lr_scheduler.ExponentialLR(optimizer, gamma=0.9)"
   ]
  },
  {
   "cell_type": "code",
   "execution_count": 6,
   "id": "0b71ba8f",
   "metadata": {
    "scrolled": false
   },
   "outputs": [
    {
     "data": {
      "application/vnd.jupyter.widget-view+json": {
       "model_id": "359c7e5a7cfd48a3ac48bf9ad1dedd27",
       "version_major": 2,
       "version_minor": 0
      },
      "text/plain": [
       "  0%|          | 0/250 [00:00<?, ?it/s]"
      ]
     },
     "metadata": {},
     "output_type": "display_data"
    },
    {
     "name": "stdout",
     "output_type": "stream",
     "text": [
      "\n",
      "Epoch: 0\n",
      "Train Acc. => 6.899% | Train Loss => 3.47970\n",
      "Test Acc.  => 12.100% | Test Loss  => 3.44457\n",
      "\n",
      "Epoch: 10\n",
      "Train Acc. => 15.661% | Train Loss => 2.25484\n",
      "Test Acc.  => 14.047% | Test Loss  => 2.28933\n",
      "\n",
      "Epoch: 20\n",
      "Train Acc. => 23.732% | Train Loss => 2.02111\n",
      "Test Acc.  => 21.001% | Test Loss  => 2.11302\n",
      "\n",
      "Epoch: 30\n",
      "Train Acc. => 33.287% | Train Loss => 1.81706\n",
      "Test Acc.  => 35.188% | Test Loss  => 1.83799\n",
      "\n",
      "Epoch: 40\n",
      "Train Acc. => 44.291% | Train Loss => 1.58701\n",
      "Test Acc.  => 43.115% | Test Loss  => 1.68962\n",
      "\n",
      "Epoch: 50\n",
      "Train Acc. => 51.880% | Train Loss => 1.36663\n",
      "Test Acc.  => 49.930% | Test Loss  => 1.49327\n",
      "\n",
      "Epoch: 60\n",
      "Train Acc. => 58.675% | Train Loss => 1.21084\n",
      "Test Acc.  => 53.547% | Test Loss  => 1.37690\n",
      "\n",
      "Epoch: 70\n",
      "Train Acc. => 64.505% | Train Loss => 1.02082\n",
      "Test Acc.  => 58.414% | Test Loss  => 1.11578\n",
      "\n",
      "Epoch: 80\n",
      "Train Acc. => 71.266% | Train Loss => 0.80183\n",
      "Test Acc.  => 66.620% | Test Loss  => 0.98454\n",
      "\n",
      "Epoch: 90\n",
      "Train Acc. => 75.716% | Train Loss => 0.66436\n",
      "Test Acc.  => 68.567% | Test Loss  => 0.94367\n",
      "\n",
      "Epoch: 100\n",
      "Train Acc. => 81.856% | Train Loss => 0.50935\n",
      "Test Acc.  => 74.687% | Test Loss  => 0.72714\n",
      "\n",
      "Epoch: 110\n",
      "Train Acc. => 84.477% | Train Loss => 0.42323\n",
      "Test Acc.  => 77.747% | Test Loss  => 0.65409\n",
      "\n",
      "Epoch: 120\n",
      "Train Acc. => 88.030% | Train Loss => 0.34716\n",
      "Test Acc.  => 78.303% | Test Loss  => 0.64583\n",
      "\n",
      "Epoch: 130\n",
      "Train Acc. => 88.651% | Train Loss => 0.30763\n",
      "Test Acc.  => 80.111% | Test Loss  => 0.62680\n",
      "\n",
      "Epoch: 140\n",
      "Train Acc. => 90.928% | Train Loss => 0.28147\n",
      "Test Acc.  => 77.747% | Test Loss  => 0.70270\n",
      "\n",
      "Epoch: 150\n",
      "Train Acc. => 92.377% | Train Loss => 0.21761\n",
      "Test Acc.  => 82.197% | Test Loss  => 0.63856\n",
      "\n",
      "Epoch: 160\n",
      "Train Acc. => 93.515% | Train Loss => 0.18456\n",
      "Test Acc.  => 82.337% | Test Loss  => 0.55938\n",
      "\n",
      "Epoch: 170\n",
      "Train Acc. => 93.722% | Train Loss => 0.17772\n",
      "Test Acc.  => 81.641% | Test Loss  => 0.69045\n",
      "\n",
      "Epoch: 180\n",
      "Train Acc. => 93.067% | Train Loss => 0.20208\n",
      "Test Acc.  => 85.257% | Test Loss  => 0.54947\n",
      "\n",
      "Epoch: 190\n",
      "Train Acc. => 96.068% | Train Loss => 0.11491\n",
      "Test Acc.  => 84.284% | Test Loss  => 0.58176\n",
      "\n",
      "Epoch: 200\n",
      "Train Acc. => 96.033% | Train Loss => 0.11190\n",
      "Test Acc.  => 84.145% | Test Loss  => 0.64942\n",
      "\n",
      "Epoch: 210\n",
      "Train Acc. => 96.895% | Train Loss => 0.08974\n",
      "Test Acc.  => 83.727% | Test Loss  => 0.59627\n",
      "\n",
      "Epoch: 220\n",
      "Train Acc. => 97.102% | Train Loss => 0.08446\n",
      "Test Acc.  => 85.257% | Test Loss  => 0.61732\n",
      "\n",
      "Epoch: 230\n",
      "Train Acc. => 96.482% | Train Loss => 0.09326\n",
      "Test Acc.  => 82.893% | Test Loss  => 0.57325\n",
      "\n",
      "Epoch: 240\n",
      "Train Acc. => 98.034% | Train Loss => 0.05359\n",
      "Test Acc.  => 85.535% | Test Loss  => 0.68092\n",
      "Finished Training\n"
     ]
    }
   ],
   "source": [
    "train_loss = []\n",
    "test_loss = []\n",
    "train_acc = []\n",
    "test_acc = []\n",
    "\n",
    "lrs = []\n",
    "steps = []\n",
    "\n",
    "# Initialize the prediction and label lists(tensors)\n",
    "predlist=torch.zeros(0,dtype=torch.long, device='cpu')\n",
    "lbllist=torch.zeros(0,dtype=torch.long, device='cpu')\n",
    "\n",
    "for epoch in tqdm(range(0, 250)):  # loop over the dataset multiple times\n",
    "    \n",
    "    running_loss = .0\n",
    "    correct = 0\n",
    "    total = 0\n",
    "    for i, data in enumerate(train_loader):\n",
    "        # get the inputs\n",
    "        inputs, labels = data\n",
    "        if device == 'cuda':\n",
    "            inputs, labels = inputs.to(device), labels.to(device)\n",
    "\n",
    "        # reset the parameter gradients\n",
    "        optimizer.zero_grad()\n",
    "\n",
    "        # forward\n",
    "        outputs = net(inputs)\n",
    "        loss = criterion(outputs, labels)\n",
    "        # backward\n",
    "        loss.backward()\n",
    "        # optimize\n",
    "        optimizer.step()\n",
    "        \n",
    "        running_loss += loss.item()\n",
    "        _, predicted = T.max(outputs.data, 1)\n",
    "        total += labels.size(0)\n",
    "        correct += (predicted == labels).sum().item()\n",
    "        \n",
    "    running_loss /= len(train_loader)\n",
    "    train_loss.append(running_loss)\n",
    "    running_acc = correct / total\n",
    "    train_acc.append(running_acc)\n",
    "    \n",
    "    #zone pour mettre le learning rate dynamique\n",
    "    \"\"\"\n",
    "    steps.append(epoch)\n",
    "    lrs.append(scheduler.get_last_lr()[0])\n",
    "    scheduler.step()\n",
    "    \"\"\"\n",
    "    \n",
    "    if epoch % 10 == 0:\n",
    "        print('\\nEpoch: {}'.format(epoch))\n",
    "        print('Train Acc. => {:.3f}%'.format(100 * running_acc), end=' | ')\n",
    "        print('Train Loss => {:.5f}'.format(running_loss))\n",
    "    \n",
    "    # evaluate on the test set\n",
    "    # note this is usually performed on the validation set\n",
    "    # for simplicity we just evaluate it on the test set\n",
    "    with T.no_grad():\n",
    "        correct = 0\n",
    "        total = 0\n",
    "        test_running_loss = .0\n",
    "        for data in test_loader:\n",
    "            inputs, labels = data\n",
    "            if device == 'cuda':\n",
    "                inputs, labels = inputs.to(device), labels.to(device)\n",
    "            outputs = net(inputs)\n",
    "            loss = criterion(outputs, labels)\n",
    "            test_running_loss += loss.item()\n",
    "            _, predicted = T.max(outputs.data, 1)\n",
    "            total += labels.size(0)\n",
    "            correct += (predicted == labels).sum().item()\n",
    "            \n",
    "            # Append batch prediction results\n",
    "            predlist=torch.cat([predlist,predicted.view(-1).cpu()])\n",
    "            lbllist=torch.cat([lbllist,labels.view(-1).cpu()])\n",
    "\n",
    "        test_running_loss /= len(test_loader)\n",
    "        test_loss.append(test_running_loss)\n",
    "        test_running_acc = correct / total\n",
    "        test_acc.append(test_running_acc)\n",
    "        \n",
    "        if epoch % 10 == 0:\n",
    "            print('Test Acc.  => {:.3f}%'.format(100 * test_running_acc), end=' | ')\n",
    "            print('Test Loss  => {:.5f}'.format(test_running_loss))\n",
    "\n",
    "print('Finished Training')"
   ]
  },
  {
   "cell_type": "markdown",
   "id": "200262ff",
   "metadata": {},
   "source": [
    "## Visualization"
   ]
  },
  {
   "cell_type": "code",
   "execution_count": 7,
   "id": "bcb34d7f",
   "metadata": {},
   "outputs": [],
   "source": [
    "import matplotlib.pyplot as plt\n",
    "import seaborn as sns"
   ]
  },
  {
   "cell_type": "code",
   "execution_count": 8,
   "id": "ab1bac62",
   "metadata": {},
   "outputs": [
    {
     "name": "stdout",
     "output_type": "stream",
     "text": [
      "[[22229  1239   288   440  1839  1899   123  1567    41    85]\n",
      " [ 1362 13083   225  2247   339  3418    15  2410   348    53]\n",
      " [ 1599   273  5109   219  1418    79   304   460     5   784]\n",
      " [  338   648     2 15472   113   551     3  1610     7     6]\n",
      " [ 3087   793  1083   295 14211   467   355  1635    13    61]\n",
      " [  670  1973    13  1889   271  7260    21  1885   253    15]\n",
      " [ 2207   290   351   156  1598    35  9665   528     0  1420]\n",
      " [  752   576     3  1512   377   214    15 22264     3    34]\n",
      " [   90   159     3   497    21  1898     0   377   453     2]\n",
      " [ 1223   366   650   110   641    32  1810   513     0 10405]]\n"
     ]
    }
   ],
   "source": [
    "# Confusion matrix\n",
    "conf_mat=confusion_matrix(lbllist.numpy(), predlist.numpy())\n",
    "print(conf_mat)\n"
   ]
  },
  {
   "cell_type": "code",
   "execution_count": 9,
   "id": "10da7cf6",
   "metadata": {},
   "outputs": [
    {
     "data": {
      "text/plain": [
       "<AxesSubplot:>"
      ]
     },
     "execution_count": 9,
     "metadata": {},
     "output_type": "execute_result"
    },
    {
     "data": {
      "image/png": "[encoded data removed]",
      "text/plain": [
       "<Figure size 936x720 with 2 Axes>"
      ]
     },
     "metadata": {
      "needs_background": "light"
     },
     "output_type": "display_data"
    }
   ],
   "source": [
    "fig, ax = plt.subplots(figsize=(13,10))\n",
    "sns.heatmap(conf_mat, annot=True, ax=ax)"
   ]
  },
  {
   "cell_type": "code",
   "execution_count": 10,
   "id": "2071eb75",
   "metadata": {},
   "outputs": [
    {
     "name": "stdout",
     "output_type": "stream",
     "text": [
      "[74.71932773 55.67234043 49.84390244 82.51733333 64.59545455 50.94736842\n",
      " 59.47692308 86.46213592 12.94285714 66.06349206]\n"
     ]
    }
   ],
   "source": [
    "# Per-class accuracy\n",
    "class_accuracy=100*conf_mat.diagonal()/conf_mat.sum(1)\n",
    "print(class_accuracy)"
   ]
  },
  {
   "cell_type": "code",
   "execution_count": 11,
   "id": "ee376b11",
   "metadata": {},
   "outputs": [
    {
     "data": {
      "text/plain": [
       "'\\nplt.plot(steps, lrs)\\nplt.xlabel(\"epoch\")\\nplt.ylabel(\"learning rate values\")\\nplt.title(\"learning rate\\'s curve\")\\nplt.show()\\n'"
      ]
     },
     "execution_count": 11,
     "metadata": {},
     "output_type": "execute_result"
    }
   ],
   "source": [
    "\"\"\"\n",
    "plt.plot(steps, lrs)\n",
    "plt.xlabel(\"epoch\")\n",
    "plt.ylabel(\"learning rate values\")\n",
    "plt.title(\"learning rate's curve\")\n",
    "plt.show()\n",
    "\"\"\""
   ]
  },
  {
   "cell_type": "code",
   "execution_count": 12,
   "id": "98d3ee1d",
   "metadata": {},
   "outputs": [
    {
     "data": {
      "image/png": "[encoded data removed]",
      "text/plain": [
       "<Figure size 432x288 with 1 Axes>"
      ]
     },
     "metadata": {
      "needs_background": "light"
     },
     "output_type": "display_data"
    }
   ],
   "source": [
    "plt.plot(train_loss, label='train')\n",
    "plt.plot(test_loss, label='test')\n",
    "plt.xlabel(\"epoch\")\n",
    "plt.ylabel(\"loss values\")\n",
    "plt.title(\"loss rate's curve\")\n",
    "plt.legend()\n",
    "plt.show()"
   ]
  },
  {
   "cell_type": "code",
   "execution_count": 13,
   "id": "fb467693",
   "metadata": {},
   "outputs": [
    {
     "data": {
      "image/png": "[encoded data removed]",
      "text/plain": [
       "<Figure size 432x288 with 1 Axes>"
      ]
     },
     "metadata": {
      "needs_background": "light"
     },
     "output_type": "display_data"
    }
   ],
   "source": [
    "plt.plot(train_acc, label='train')\n",
    "plt.plot(test_acc, label='test')\n",
    "plt.xlabel(\"epoch\")\n",
    "plt.ylabel(\"accuracy values\")\n",
    "plt.title(\"accuracy rate's curve\")\n",
    "plt.legend()\n",
    "plt.show()"
   ]
  },
  {
   "cell_type": "code",
   "execution_count": 14,
   "id": "ea64b954",
   "metadata": {},
   "outputs": [],
   "source": [
    "torch.save(net.state_dict(), \"C:/Users/heuma/Desktop/Master/S10/Aurea/Saved_Network/dict_Linh_network_4th_try_10species\")"
   ]
  },
  {
   "cell_type": "code",
   "execution_count": 15,
   "id": "e0753a13",
   "metadata": {},
   "outputs": [],
   "source": [
    "torch.save(net, \"C:/Users/heuma/Desktop/Master/S10/Aurea/Saved_Network/Linh_network_entire_model_4th_try_10species\")"
   ]
  },
  {
   "cell_type": "code",
   "execution_count": 16,
   "id": "f9e64f8b",
   "metadata": {},
   "outputs": [
    {
     "data": {
      "text/plain": [
       "'\\nfrom torch.utils.data.dataloader import DataLoader\\n\\n\\ntrain_dl = DataLoader(train_set, batch_size, shuffle = True, num_workers = 4, pin_memory = True)\\n\\nfrom torchvision.utils import make_grid\\n\\ndef show_batch(dl):\\n    #Plot images grid of single batch\\n    for images, labels in dl:\\n        fig,ax = plt.subplots(figsize = (16,12))\\n        ax.set_xticks([])\\n        ax.set_yticks([])\\n        ax.imshow(make_grid(images,nrow=16).permute(1,2,0))\\n        break\\n        \\nshow_batch(train_dl)\\n\\n'"
      ]
     },
     "execution_count": 16,
     "metadata": {},
     "output_type": "execute_result"
    }
   ],
   "source": [
    "\"\"\"\n",
    "from torch.utils.data.dataloader import DataLoader\n",
    "\n",
    "\n",
    "train_dl = DataLoader(train_set, batch_size, shuffle = True, num_workers = 4, pin_memory = True)\n",
    "\n",
    "from torchvision.utils import make_grid\n",
    "\n",
    "def show_batch(dl):\n",
    "    #Plot images grid of single batch\n",
    "    for images, labels in dl:\n",
    "        fig,ax = plt.subplots(figsize = (16,12))\n",
    "        ax.set_xticks([])\n",
    "        ax.set_yticks([])\n",
    "        ax.imshow(make_grid(images,nrow=16).permute(1,2,0))\n",
    "        break\n",
    "        \n",
    "show_batch(train_dl)\n",
    "\n",
    "\"\"\""
   ]
  },
  {
   "cell_type": "code",
   "execution_count": 17,
   "id": "5308da1c",
   "metadata": {},
   "outputs": [
    {
     "data": {
      "text/plain": [
       "\"\\ntransform2 = transforms.Compose(\\n    [transforms.Resize((224, 224)),\\n     transforms.ToTensor()])\\n\\ntrain_set2 = ImageFolder('C:/Users/heuma/Desktop/Master/S10/Aurea/Dataset_Kaggle_Test_Train_20-80/TRAIN/', transform=transform2)\\n\\ntrain_dl2 = DataLoader(train_set2, batch_size, shuffle = True, num_workers = 4, pin_memory = True)\\n\\n        \\nshow_batch(train_dl2)\\n\""
      ]
     },
     "execution_count": 17,
     "metadata": {},
     "output_type": "execute_result"
    }
   ],
   "source": [
    "\"\"\"\n",
    "transform2 = transforms.Compose(\n",
    "    [transforms.Resize((224, 224)),\n",
    "     transforms.ToTensor()])\n",
    "\n",
    "train_set2 = ImageFolder('C:/Users/heuma/Desktop/Master/S10/Aurea/Dataset_Kaggle_Test_Train_20-80/TRAIN/', transform=transform2)\n",
    "\n",
    "train_dl2 = DataLoader(train_set2, batch_size, shuffle = True, num_workers = 4, pin_memory = True)\n",
    "\n",
    "        \n",
    "show_batch(train_dl2)\n",
    "\"\"\""
   ]
  },
  {
   "cell_type": "markdown",
   "id": "b7869c4c",
   "metadata": {},
   "source": [
    "## Load Model"
   ]
  },
  {
   "cell_type": "code",
   "execution_count": 21,
   "id": "0b416714",
   "metadata": {},
   "outputs": [
    {
     "data": {
      "text/plain": [
       "<All keys matched successfully>"
      ]
     },
     "execution_count": 21,
     "metadata": {},
     "output_type": "execute_result"
    }
   ],
   "source": [
    "net = NewNetwork()\n",
    "net.load_state_dict(torch.load('C:/Users/heuma/Desktop/Master/S10/Aurea/Saved_Network/dict_Linh_network_4th_try_10species'))"
   ]
  },
  {
   "cell_type": "code",
   "execution_count": 22,
   "id": "0dae7158",
   "metadata": {},
   "outputs": [
    {
     "data": {
      "text/plain": [
       "NewNetwork(\n",
       "  (features): Sequential(\n",
       "    (0): Conv2d(3, 32, kernel_size=(3, 3), stride=(2, 2), padding=(1, 1))\n",
       "    (1): PReLU(num_parameters=1)\n",
       "    (2): MaxPool2d(kernel_size=2, stride=2, padding=0, dilation=1, ceil_mode=False)\n",
       "    (3): Dropout(p=0.1, inplace=False)\n",
       "    (4): Conv2d(32, 64, kernel_size=(3, 3), stride=(2, 2), padding=(1, 1))\n",
       "    (5): PReLU(num_parameters=1)\n",
       "    (6): MaxPool2d(kernel_size=2, stride=2, padding=0, dilation=1, ceil_mode=False)\n",
       "    (7): Dropout(p=0.2, inplace=False)\n",
       "    (8): Conv2d(64, 128, kernel_size=(3, 3), stride=(2, 2), padding=(1, 1))\n",
       "    (9): Conv2d(128, 128, kernel_size=(3, 3), stride=(2, 2), padding=(1, 1))\n",
       "    (10): PReLU(num_parameters=1)\n",
       "    (11): MaxPool2d(kernel_size=2, stride=2, padding=0, dilation=1, ceil_mode=False)\n",
       "    (12): Dropout(p=0.3, inplace=False)\n",
       "    (13): Conv2d(128, 256, kernel_size=(3, 3), stride=(2, 2), padding=(1, 1))\n",
       "    (14): PReLU(num_parameters=1)\n",
       "    (15): MaxPool2d(kernel_size=2, stride=2, padding=0, dilation=1, ceil_mode=False)\n",
       "    (16): Dropout(p=0.4, inplace=False)\n",
       "  )\n",
       "  (classifier): Sequential(\n",
       "    (0): Dropout(p=0.5, inplace=False)\n",
       "    (1): Linear(in_features=256, out_features=1000, bias=True)\n",
       "    (2): PReLU(num_parameters=1)\n",
       "    (3): Dropout(p=0.5, inplace=False)\n",
       "    (4): Linear(in_features=1000, out_features=1000, bias=True)\n",
       "    (5): PReLU(num_parameters=1)\n",
       "    (6): Linear(in_features=1000, out_features=33, bias=True)\n",
       "  )\n",
       ")"
      ]
     },
     "execution_count": 22,
     "metadata": {},
     "output_type": "execute_result"
    }
   ],
   "source": [
    "net.to(device)"
   ]
  },
  {
   "cell_type": "code",
   "execution_count": null,
   "id": "3f2d6c2c",
   "metadata": {},
   "outputs": [],
   "source": [
    "transform = transforms.Compose(\n",
    "    [transforms.Resize((512,512)),\n",
    "     transforms.ToTensor(),\n",
    "     transforms.Normalize((0.485, 0.456, 0.406), (0.229, 0.224, 0.225))])\n",
    "\n",
    "batch_size = 64\n",
    "#image_size = (224, 224, 3)\n",
    "\n",
    "train_set = ImageFolder('C:/Users/heuma/Desktop/Master/S10/Aurea/Dataset_Kaggle_Test_Train_20-80/TRAIN/', transform=transform)\n",
    "test_set = ImageFolder('C:/Users/heuma/Desktop/Master/S10/Aurea/Dataset_Kaggle_Test_Train_20-80/TEST/', transform=transform)\n",
    "\n",
    "#train_set = train_ds\n",
    "train_loader = T.utils.data.DataLoader(train_set, batch_size=batch_size,shuffle=True, num_workers=4)\n",
    "\n",
    "#test_set = test_ds\n",
    "test_loader = T.utils.data.DataLoader(test_set, batch_size=batch_size,shuffle=False, num_workers=4)"
   ]
  },
  {
   "cell_type": "code",
   "execution_count": null,
   "id": "3ca631f4",
   "metadata": {},
   "outputs": [],
   "source": []
  }
 ],
 "metadata": {
  "kernelspec": {
   "display_name": "Python 3 (ipykernel)",
   "language": "python",
   "name": "python3"
  },
  "language_info": {
   "codemirror_mode": {
    "name": "ipython",
    "version": 3
   },
   "file_extension": ".py",
   "mimetype": "text/x-python",
   "name": "python",
   "nbconvert_exporter": "python",
   "pygments_lexer": "ipython3",
   "version": "3.9.7"
  }
 },
 "nbformat": 4,
 "nbformat_minor": 5
}
